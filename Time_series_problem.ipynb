{
 "cells": [
  {
   "cell_type": "code",
   "execution_count": 9,
   "metadata": {},
   "outputs": [],
   "source": [
    "import pandas as pd\n",
    "import numpy as np\n",
    "from datetime import datetime\n",
    "#Attempt to load csv file test data for EDx course PH526x final project.  Useless columns are dropped.\n",
    "train_time_series = pd.read_csv('https://courses.edx.org/assets/courseware/v1/b98039c3648763aae4f153a6ed32f38b/asset-v1:HarvardX+PH526x+1T2020+type@asset+block/train_time_series.csv')\n",
    "train_time_series = train_time_series.drop(['Unnamed: 0','accuracy','UTC time'],axis='columns')\n",
    "train_labels = pd.read_csv('https://courses.edx.org/assets/courseware/v1/d64e74647423e525bbeb13f2884e9cfa/asset-v1:HarvardX+PH526x+1T2020+type@asset+block/train_labels.csv')\n",
    "train_labels = train_labels.drop(['Unnamed: 0','UTC time'],axis='columns')\n",
    "test_time_series = pd.read_csv('https://courses.edx.org/assets/courseware/v1/1ca4f3d4976f07b8c4ecf99cf8f7bdbc/asset-v1:HarvardX+PH526x+1T2020+type@asset+block/test_time_series.csv')\n",
    "test_labels = pd.read_csv('https://courses.edx.org/assets/courseware/v1/72d5933c310cf5eac3fa3f28b26d9c39/asset-v1:HarvardX+PH526x+1T2020+type@asset+block/test_labels.csv')\n",
    "#test_time_series = test_time_series.drop(['Unnamed: 0','accuracy','UTC time'],axis='columns')"
   ]
  },
  {
   "cell_type": "code",
   "execution_count": 15,
   "metadata": {},
   "outputs": [],
   "source": [
    "#expand the train_labels to so we have an arry for each entry in the test_time_series.  Assume the activities between timestamps are consistent and continuous\\n\",\n",
    "#go through each train_time_series and get the nearest label\n",
    "def getNearestLabel(timestamp,labels):\n",
    "    #helper function to return the label from the provided labels dataframe nearest to the given timestamp\n",
    "    closest = labels.iloc[(labels['timestamp']-timestamp).abs().argsort()[1:2]] \n",
    "    #chooses the label from the next highest timestamp\n",
    "    return(closest.label.values[0])\n",
    "ext = train_time_series.timestamp.apply(lambda x: getNearestLabel(x,train_labels))"
   ]
  },
  {
   "cell_type": "code",
   "execution_count": null,
   "metadata": {},
   "outputs": [],
   "source": []
  },
  {
   "cell_type": "code",
   "execution_count": 18,
   "metadata": {},
   "outputs": [],
   "source": [
    "#implement and test randomforest on data\n",
    "from sklearn.ensemble import RandomForestRegressor\n",
    "regressor = RandomForestRegressor(n_estimators=4, random_state=0)\n",
    "regressor.fit(train_time_series[['x','y','z']], ext)\n",
    "y_pred = regressor.predict(train_time_series[['x','y','z']])\n",
    "#predictions come out as floats, we need to choose which prediction wins\n",
    "y_pred_round = [ int(round(f)) for f in y_pred] #round all predictions to nearest int."
   ]
  },
  {
   "cell_type": "code",
   "execution_count": 19,
   "metadata": {},
   "outputs": [
    {
     "name": "stdout",
     "output_type": "stream",
     "text": [
      "[[ 199   66    1    1]\n",
      " [   2 1998  126    8]\n",
      " [   0  180  681   16]\n",
      " [   0   33  121  312]]\n",
      "              precision    recall  f1-score   support\n",
      "\n",
      "           1       0.99      0.75      0.85       267\n",
      "           2       0.88      0.94      0.91      2134\n",
      "           3       0.73      0.78      0.75       877\n",
      "           4       0.93      0.67      0.78       466\n",
      "\n",
      "    accuracy                           0.85      3744\n",
      "   macro avg       0.88      0.78      0.82      3744\n",
      "weighted avg       0.86      0.85      0.85      3744\n",
      "\n",
      "0.8520299145299145\n"
     ]
    }
   ],
   "source": [
    "from sklearn.metrics import classification_report, confusion_matrix, accuracy_score\n",
    "print(confusion_matrix(ext.tolist(),y_pred_round))\n",
    "print(classification_report(ext.tolist(),y_pred_round))\n",
    "print(accuracy_score(ext.tolist(), y_pred_round))"
   ]
  },
  {
   "cell_type": "code",
   "execution_count": 20,
   "metadata": {},
   "outputs": [
    {
     "name": "stdout",
     "output_type": "stream",
     "text": [
      "[[ 209   57    1    0]\n",
      " [   0 2106   28    0]\n",
      " [   0   37  840    0]\n",
      " [   0    4  168  294]]\n",
      "              precision    recall  f1-score   support\n",
      "\n",
      "           1       1.00      0.78      0.88       267\n",
      "           2       0.96      0.99      0.97      2134\n",
      "           3       0.81      0.96      0.88       877\n",
      "           4       1.00      0.63      0.77       466\n",
      "\n",
      "    accuracy                           0.92      3744\n",
      "   macro avg       0.94      0.84      0.88      3744\n",
      "weighted avg       0.93      0.92      0.92      3744\n",
      "\n",
      "0.9212072649572649\n"
     ]
    }
   ],
   "source": [
    "#rounding the number to the nearest int may not be the best method of choosing.   Since we assume that a given activity continues over multiple measurements, then we can apply moving median over several entries to smooth the category\n",
    "#create bigger list of predictions by padding the ends\n",
    "begin = y_pred[0]\n",
    "end = y_pred[len(y_pred)-1]\n",
    "expanded_pred = [begin, begin, *y_pred, end] #Pandas rolling function extends the tail, so the beginning needs to be padded.\n",
    "#create the moving averages list\\n\",\n",
    "pred_avg = pd.Series(expanded_pred).rolling(window=4).median().dropna() #Pandas creates NaN entries for the leading window measurements. \n",
    "#compare\n",
    "pred_avg_round = [ int(round(f)) for f in pred_avg] #round all predictions to nearest int\n",
    "print(confusion_matrix(ext.tolist(),pred_avg_round))\n",
    "print(classification_report(ext.tolist(),pred_avg_round))\n",
    "print(accuracy_score(ext.tolist(), pred_avg_round))\n",
    "#smoothing the output produces a significantly better categorization than simply rounding the output.\""
   ]
  },
  {
   "cell_type": "code",
   "execution_count": 22,
   "metadata": {},
   "outputs": [
    {
     "name": "stdout",
     "output_type": "stream",
     "text": [
      "0:00:00.072885\n",
      "[3, 2, 3, 3, 3, 2, 3, 3, 3, 3, 3, 2, 2, 2, 2, 2, 2, 3, 2, 2, 3, 3, 2, 3, 2, 3, 3, 3, 2, 3, 3, 3, 3, 2, 3, 1, 2, 1, 1, 1, 1, 1, 1, 1, 1, 1, 1, 1, 1, 1, 1, 1, 2, 3, 2, 3, 2, 2, 3, 3, 3, 3, 2, 2, 3, 2, 2, 3, 3, 2, 2, 3, 3, 3, 2, 3, 3, 2, 3, 2, 2, 3, 3, 2, 2, 2, 3, 2, 2, 2, 2, 2, 2, 3, 2, 2, 2, 2, 2, 2, 2, 2, 2, 2, 3, 2, 2, 2, 3, 3, 2, 2, 2, 2, 2, 3, 2, 3, 2, 2, 2, 2, 2, 3, 2]\n"
     ]
    }
   ],
   "source": [
    "#Run the train_time_series to generate the graded output\n",
    "startTime = datetime.now()\n",
    "test_predictions = regressor.predict(test_time_series[['x','y','z']])\n",
    "begin = test_predictions[0]\n",
    "end = test_predictions[len(test_predictions)-1]\n",
    "ETP = [begin, begin, *test_predictions, end] #Pandas rolling function extends the tail, so the beginning needs to be padded\n",
    "\n",
    "#create the moving averages list\n",
    "test_predictions = pd.Series(ETP).rolling(window=4).median().dropna() #Pandas creates NaN entries for the leading window measurements.   Median works better than mean() for accuracy\\\n",
    "test_predictions = [ int(round(f)) for f in test_predictions]\n",
    "#match test predictions to test_time_series\n",
    "test_time_series['label'] = pd.Series(test_predictions)\n",
    "#fill in the test_labels spreadsheet with the prediction for that timestamps\n",
    "answer = test_time_series[test_time_series.timestamp.isin(test_labels.timestamp)]\n",
    "#output results in prefered format\n",
    "endtime = datetime.now()\n",
    "answer['label'].to_csv('randomocean.csv')\n",
    "print(endtime - startTime)\n",
    "print(answer.label.to_list())"
   ]
  },
  {
   "cell_type": "code",
   "execution_count": null,
   "metadata": {},
   "outputs": [],
   "source": []
  }
 ],
 "metadata": {
  "kernelspec": {
   "display_name": "Python 3",
   "language": "python",
   "name": "python3"
  },
  "language_info": {
   "codemirror_mode": {
    "name": "ipython",
    "version": 3
   },
   "file_extension": ".py",
   "mimetype": "text/x-python",
   "name": "python",
   "nbconvert_exporter": "python",
   "pygments_lexer": "ipython3",
   "version": "3.7.6"
  }
 },
 "nbformat": 4,
 "nbformat_minor": 4
}
